{
 "cells": [
  {
   "cell_type": "markdown",
   "metadata": {},
   "source": [
    "# Simplified DES ( S-DES ) algorithm\n",
    "**present by qywok**"
   ]
  },
  {
   "cell_type": "markdown",
   "metadata": {},
   "source": [
    "## 1. key generator"
   ]
  },
  {
   "cell_type": "code",
   "execution_count": 3,
   "metadata": {},
   "outputs": [],
   "source": [
    "class key_generation:\n",
    "    def __init__(self,key):\n",
    "        self.key=key\n",
    "        self.p8key=[6,3,7,4,8,5,10,9]\n",
    "        self.p10key=[3,5,2,7,4,10,1,9,8,6]\n",
    "        self.kr1=\"\"\n",
    "    #[ p10 ]+++++++++++++++++++++++++++++++++++++++++++++++++++++++++\n",
    "    def p10_out(self):\n",
    "        self.p10=\"\"\n",
    "        for index_p10 in range(len(self.p10key)):\n",
    "            self.p10+=self.key[self.p10key[index_p10]-1]\n",
    "        return self.p10\n",
    "    def kl0_out(self):\n",
    "        self.kl0=\"\"\n",
    "        key=self.p10_out()\n",
    "        for index_kl0 in range(int(len(self.key)/2)):\n",
    "            self.kl0+=key[index_kl0]\n",
    "        return self.kl0\n",
    "    def kr0_out(self):\n",
    "        self.kr0=\"\"\n",
    "        key=self.p10_out()\n",
    "        for index_kr0 in range(int(len(self.key)/2)):\n",
    "            self.kr0+=key[int(len(self.key)/2)+index_kr0]\n",
    "        return self.kr0\n",
    "    def kl1_out(self):\n",
    "        key=self.kl0_out()\n",
    "        arr=[] \n",
    "        for index_kl1 in range(int(len(self.key)/2)):\n",
    "            arr.append(key[index_kl1])\n",
    "        arr.append(arr[0])\n",
    "        arr.pop(0)\n",
    "        return \"\".join(arr)\n",
    "    def kr1_out(self):\n",
    "        key=self.kr0_out()\n",
    "        arr=[] \n",
    "        for index_kr1 in range(int(len(self.key)/2)):\n",
    "            arr.append(key[index_kr1])\n",
    "        arr.append(arr[0])\n",
    "        arr.pop(0)\n",
    "        return \"\".join(arr)\n",
    "    #[ p8 ]+++++++++++++++++++++++++++++++++++++++++++++++++++++++++\n",
    "    def k1_out(self):\n",
    "        p8=\"\"\n",
    "        key=self.kl1_out()+self.kr1_out()\n",
    "        for index_p8 in range(len(self.p8key)):\n",
    "            p8+=key[self.p8key[index_p8]-1]\n",
    "        return p8\n",
    "    def kl2_out(self):\n",
    "        key=self.kl1_out()\n",
    "        arr=[] \n",
    "        for index_kl2 in range(int(len(self.key)/2)):\n",
    "            arr.append(key[index_kl2])\n",
    "        for index_kl2_1 in range(2):\n",
    "            if index_kl2_1 % 2 == 1:\n",
    "                arr.append(arr[index_kl2_1-1])\n",
    "                arr.pop(index_kl2_1-1)\n",
    "            else:\n",
    "                arr.append(arr[index_kl2_1])\n",
    "                arr.pop(index_kl2_1)\n",
    "        return \"\".join(arr)\n",
    "    def kr2_out(self):\n",
    "        key=self.kr1_out()\n",
    "        arr=[] \n",
    "        for index_kr2 in range(int(len(self.key)/2)):\n",
    "            arr.append(key[index_kr2])\n",
    "        for index_kr2_1 in range(2):\n",
    "            if index_kr2_1 % 2 == 1:\n",
    "                arr.append(arr[index_kr2_1-1])\n",
    "                arr.pop(index_kr2_1-1)\n",
    "            else:\n",
    "                arr.append(arr[index_kr2_1])\n",
    "                arr.pop(index_kr2_1)\n",
    "        return \"\".join(arr)\n",
    "    def k2_out(self):\n",
    "        p8=\"\"\n",
    "        key=self.kl2_out()+self.kr2_out()\n",
    "        for index_p8 in range(len(self.p8key)):\n",
    "            p8+=key[self.p8key[index_p8]-1]\n",
    "        return p8\n",
    "key=\"1010000010\"\n",
    "kg=key_generation(key)"
   ]
  },
  {
   "cell_type": "markdown",
   "metadata": {},
   "source": [
    "**kunci K1 dan K2**"
   ]
  },
  {
   "cell_type": "code",
   "execution_count": 4,
   "metadata": {},
   "outputs": [
    {
     "name": "stdout",
     "output_type": "stream",
     "text": [
      "k1 = 10100100\n",
      "k2 = 01000011\n"
     ]
    }
   ],
   "source": [
    "k1 = kg.k1_out()\n",
    "k2 = kg.k2_out()\n",
    "print(f\"k1 = {k1}\")\n",
    "print(f\"k2 = {k2}\")"
   ]
  },
  {
   "cell_type": "markdown",
   "metadata": {},
   "source": [
    "## 2. encryption"
   ]
  },
  {
   "cell_type": "markdown",
   "metadata": {},
   "source": [
    "**round 1**"
   ]
  },
  {
   "cell_type": "markdown",
   "metadata": {},
   "source": [
    "*sbox tables*"
   ]
  },
  {
   "cell_type": "code",
   "execution_count": 48,
   "metadata": {},
   "outputs": [],
   "source": [
    "class sbox_tables:\n",
    "    def __init__(self,vertikal,horizontal):\n",
    "        self.v=vertikal\n",
    "        self.h=horizontal\n",
    "        self.index=[\"00\",\"01\",\"10\",\"11\"]\n",
    "    def sbox0(self):\n",
    "        S0=\"\"\n",
    "        bc=[\n",
    "            [\"01\",\"00\",\"11\",\"10\"],\n",
    "            [\"11\",\"10\",\"01\",\"00\"],\n",
    "            [\"00\",\"10\",\"01\",\"11\"],\n",
    "            [\"11\",\"01\",\"11\",\"10\"]\n",
    "           ]\n",
    "        for index_sbox00 in range(len(self.index)):\n",
    "            for index_sbox01 in range(len(self.index)):\n",
    "                if (self.v==self.index[index_sbox00])&(self.h==self.index[index_sbox01]):\n",
    "                    S0+=bc[index_sbox00][index_sbox01]\n",
    "        return S0\n",
    "    def sbox1(self):\n",
    "        S1=\"\"\n",
    "        bc=[\n",
    "            [\"00\",\"01\",\"10\",\"11\"],\n",
    "            [\"10\",\"00\",\"01\",\"11\"],\n",
    "            [\"11\",\"00\",\"01\",\"00\"],\n",
    "            [\"10\",\"01\",\"00\",\"11\"]\n",
    "           ]\n",
    "        for index_sbox10 in range(len(self.index)):\n",
    "            for index_sbox11 in range(len(self.index)):\n",
    "                if (self.v==self.index[index_sbox10])&(self.h==self.index[index_sbox11]):\n",
    "                    S1+=bc[index_sbox10][index_sbox11]\n",
    "        return S1"
   ]
  },
  {
   "cell_type": "code",
   "execution_count": 72,
   "metadata": {},
   "outputs": [
    {
     "name": "stdout",
     "output_type": "stream",
     "text": [
      "permutasi : 1101\n"
     ]
    }
   ],
   "source": [
    "class Round_1:\n",
    "    def __init__(self,c_t):\n",
    "        self.C=c_t\n",
    "        self.IPkey=[2,6,3,1,4,8,5,7]\n",
    "        self.EPkey=[4,1,2,3,2,3,4,1]\n",
    "        self.P4key=[2,4,3,1]\n",
    "    def IP_out(self):\n",
    "        IP=\"\"\n",
    "        for index_IP in range(len(self.IPkey)):\n",
    "            IP+=self.C[self.IPkey[index_IP]-1]\n",
    "        return IP\n",
    "    def L0_out(self):\n",
    "        L0=\"\"\n",
    "        for index_L0 in range(int(len(self.C)/2)):\n",
    "            L0+=self.IP_out()[index_L0]\n",
    "        return L0\n",
    "    def R0_out(self):\n",
    "        R0=\"\"\n",
    "        for index_R0 in range(int(len(self.C)/2)):\n",
    "            R0+=self.IP_out()[4+index_R0]\n",
    "        return R0\n",
    "    def EP_out(self):\n",
    "        EP=\"\"\n",
    "        for index_EP in range(len(self.EPkey)):\n",
    "            EP+=str(int(self.R0_out()[self.EPkey[index_EP]-1])^int(k1[index_EP]))\n",
    "        return EP\n",
    "    def S0_out(self):\n",
    "        S0=\"\"\n",
    "        tx=self.EP_out()[0:4]\n",
    "        v=tx[::3]\n",
    "        h=tx[1:3]\n",
    "        return str(sbox_tables(v,h).sbox0())\n",
    "    def S1_out(self):\n",
    "        S1=\"\"\n",
    "        tx=self.EP_out()[4::]\n",
    "        v=tx[::3]\n",
    "        h=tx[1:3]\n",
    "        return str(sbox_tables(v,h).sbox1())\n",
    "    def P4_out(self):\n",
    "        P4=\"\"\n",
    "        tx=self.S0_out()+self.S1_out()\n",
    "        for index_P4 in range(len(tx)):\n",
    "            P4+=str(int(tx[self.P4key[index_P4]-1])^int(self.L0_out()[index_P4])) # P4 ^ L0\n",
    "        return P4\n",
    "print(f\"permutasi : {round1.P4_out()}\")"
   ]
  },
  {
   "cell_type": "markdown",
   "metadata": {},
   "source": [
    "**round 2**"
   ]
  },
  {
   "cell_type": "code",
   "execution_count": 98,
   "metadata": {},
   "outputs": [
    {
     "name": "stdout",
     "output_type": "stream",
     "text": [
      " ciphertext is 01110111\n"
     ]
    }
   ],
   "source": [
    "class Round_2:\n",
    "    def __init__(self):\n",
    "        self.L1=round1.R0_out() # L1 == R0\n",
    "        self.R1=round1.P4_out() # R1 == P4 ^ L0, R1 == R2\n",
    "        self.EPkey=round1.EPkey\n",
    "        self.P4key=round1.P4key\n",
    "        self.IP_INVkey=[4,1,3,5,7,2,8,6]\n",
    "    def EP_out(self):\n",
    "        EP=\"\"\n",
    "        for index_EP in range(len(self.EPkey)):\n",
    "            EP+=str(int(self.R1[self.EPkey[index_EP]-1])^int(k2[index_EP]))\n",
    "        return EP\n",
    "    def S0_out(self):\n",
    "        S0=\"\"\n",
    "        tx=self.EP_out()[0:4]\n",
    "        v=tx[::3]\n",
    "        h=tx[1:3]\n",
    "        return str(sbox_tables(v,h).sbox0())\n",
    "    def S1_out(self):\n",
    "        S1=\"\"\n",
    "        tx=self.EP_out()[4::]\n",
    "        v=tx[::3]\n",
    "        h=tx[1:3]\n",
    "        return str(sbox_tables(v,h).sbox1())\n",
    "    def P4_out(self):\n",
    "        P4=\"\"\n",
    "        tx=self.S0_out()+self.S1_out()\n",
    "        for index_P4 in range(len(tx)):\n",
    "            P4+=str(int(tx[self.P4key[index_P4]-1])^int(self.L1[index_P4])) # P4 ^ L0\n",
    "        return P4\n",
    "    def IP_INV(self):\n",
    "        IP_INV=\"\"\n",
    "        for index_IPinv in range(len(self.IP_INVkey)):\n",
    "            IP_INV+=(self.P4_out()+self.R1)[self.IP_INVkey[index_IPinv]-1]\n",
    "        return IP_INV\n",
    "plaintext=\"01110010\"\n",
    "round1=Round_1(plaintext)\n",
    "print(f\" ciphertext is {Round_2().IP_INV()}\")\n",
    "ciphertext=Round_2().IP_INV()"
   ]
  },
  {
   "cell_type": "markdown",
   "metadata": {},
   "source": [
    "## 3. decryption"
   ]
  },
  {
   "cell_type": "markdown",
   "metadata": {},
   "source": [
    "**Round 1**"
   ]
  },
  {
   "cell_type": "code",
   "execution_count": 88,
   "metadata": {},
   "outputs": [],
   "source": [
    "class Round_1Dec:\n",
    "    def __init__(self,c_t):\n",
    "        self.C=c_t\n",
    "        self.IPkey=[2,6,3,1,4,8,5,7]\n",
    "        self.EPkey=[4,1,2,3,2,3,4,1]\n",
    "        self.P4key=[2,4,3,1]\n",
    "    def IP_out(self):\n",
    "        IP=\"\"\n",
    "        for index_IP in range(len(self.IPkey)):\n",
    "            IP+=self.C[self.IPkey[index_IP]-1]\n",
    "        return IP\n",
    "    def L0_out(self):\n",
    "        L0=\"\"\n",
    "        for index_L0 in range(int(len(self.C)/2)):\n",
    "            L0+=self.IP_out()[index_L0]\n",
    "        return L0\n",
    "    def R0_out(self):\n",
    "        R0=\"\"\n",
    "        for index_R0 in range(int(len(self.C)/2)):\n",
    "            R0+=self.IP_out()[4+index_R0]\n",
    "        return R0\n",
    "    def EP_out(self):\n",
    "        EP=\"\"\n",
    "        for index_EP in range(len(self.EPkey)):\n",
    "            EP+=str(int(self.R0_out()[self.EPkey[index_EP]-1])^int(k2[index_EP]))\n",
    "        return EP\n",
    "    def S0_out(self):\n",
    "        S0=\"\"\n",
    "        tx=self.EP_out()[0:4]\n",
    "        v=tx[::3]\n",
    "        h=tx[1:3]\n",
    "        return str(sbox_tables(v,h).sbox0())\n",
    "    def S1_out(self):\n",
    "        S1=\"\"\n",
    "        tx=self.EP_out()[4::]\n",
    "        v=tx[::3]\n",
    "        h=tx[1:3]\n",
    "        return str(sbox_tables(v,h).sbox1())\n",
    "    def P4_out(self):\n",
    "        P4=\"\"\n",
    "        tx=self.S0_out()+self.S1_out()\n",
    "        for index_P4 in range(len(tx)):\n",
    "            P4+=str(int(tx[self.P4key[index_P4]-1])^int(self.L0_out()[index_P4])) # P4 ^ L0\n",
    "        return P4"
   ]
  },
  {
   "cell_type": "markdown",
   "metadata": {},
   "source": [
    "**Round 2**"
   ]
  },
  {
   "cell_type": "code",
   "execution_count": 100,
   "metadata": {},
   "outputs": [
    {
     "name": "stdout",
     "output_type": "stream",
     "text": [
      " plaintext is 01110010\n"
     ]
    }
   ],
   "source": [
    "class Round_2Dec:\n",
    "    def __init__(self):\n",
    "        self.L1=round1.R0_out() # L1 == R0\n",
    "        self.R1=round1.P4_out() # R1 == P4 ^ L0, R1 == R2\n",
    "        self.EPkey=round1.EPkey\n",
    "        self.P4key=round1.P4key\n",
    "        self.IP_INVkey=[4,1,3,5,7,2,8,6]\n",
    "    def EP_out(self):\n",
    "        EP=\"\"\n",
    "        for index_EP in range(len(self.EPkey)):\n",
    "            EP+=str(int(self.R1[self.EPkey[index_EP]-1])^int(k1[index_EP]))\n",
    "        return EP\n",
    "    def S0_out(self):\n",
    "        S0=\"\"\n",
    "        tx=self.EP_out()[0:4]\n",
    "        v=tx[::3]\n",
    "        h=tx[1:3]\n",
    "        return str(sbox_tables(v,h).sbox0())\n",
    "    def S1_out(self):\n",
    "        S1=\"\"\n",
    "        tx=self.EP_out()[4::]\n",
    "        v=tx[::3]\n",
    "        h=tx[1:3]\n",
    "        return str(sbox_tables(v,h).sbox1())\n",
    "    def P4_out(self):\n",
    "        P4=\"\"\n",
    "        tx=self.S0_out()+self.S1_out()\n",
    "        for index_P4 in range(len(tx)):\n",
    "            P4+=str(int(tx[self.P4key[index_P4]-1])^int(self.L1[index_P4])) # P4 ^ L0\n",
    "        return P4\n",
    "    def IP_INV(self):\n",
    "        IP_INV=\"\"\n",
    "        for index_IPinv in range(len(self.IP_INVkey)):\n",
    "            IP_INV+=(self.P4_out()+self.R1)[self.IP_INVkey[index_IPinv]-1]\n",
    "        return IP_INV\n",
    "round1Dec=Round_1Dec(ciphertext)\n",
    "print(f\" plaintext is {Round_2Dec().IP_INV()}\")"
   ]
  },
  {
   "cell_type": "code",
   "execution_count": null,
   "metadata": {},
   "outputs": [],
   "source": []
  }
 ],
 "metadata": {
  "kernelspec": {
   "display_name": "Python 3",
   "language": "python",
   "name": "python3"
  },
  "language_info": {
   "codemirror_mode": {
    "name": "ipython",
    "version": 3
   },
   "file_extension": ".py",
   "mimetype": "text/x-python",
   "name": "python",
   "nbconvert_exporter": "python",
   "pygments_lexer": "ipython3",
   "version": "3.6.9"
  }
 },
 "nbformat": 4,
 "nbformat_minor": 4
}
